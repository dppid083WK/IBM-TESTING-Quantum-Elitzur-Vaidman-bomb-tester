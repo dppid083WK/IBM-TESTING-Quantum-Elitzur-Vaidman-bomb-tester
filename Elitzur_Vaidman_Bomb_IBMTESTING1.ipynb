{
 "cells": [
  {
   "cell_type": "code",
   "execution_count": 1,
   "id": "2d7650a5-b2de-4564-8a10-fe68f92a5971",
   "metadata": {},
   "outputs": [
    {
     "name": "stderr",
     "output_type": "stream",
     "text": [
      "<frozen importlib._bootstrap>:219: RuntimeWarning: scipy._lib.messagestream.MessageStream size changed, may indicate binary incompatibility. Expected 56 from C header, got 64 from PyObject\n"
     ]
    }
   ],
   "source": [
    "import numpy as np\n",
    "\n",
    "# Importing standard Qiskit libraries\n",
    "from qiskit import QuantumCircuit, transpile, Aer, IBMQ\n",
    "from qiskit.tools.jupyter import *\n",
    "from qiskit.visualization import *\n",
    "from ibm_quantum_widgets import *\n",
    "from qiskit.providers.aer import QasmSimulator\n",
    "\n",
    "# Loading your IBM Quantum account(s)\n",
    "provider = IBMQ.load_account()"
   ]
  },
  {
   "cell_type": "code",
   "execution_count": 2,
   "id": "658de90c-68b0-4f4e-96c6-916cbb8ad72b",
   "metadata": {},
   "outputs": [
    {
     "name": "stdout",
     "output_type": "stream",
     "text": [
      "Collecting pyfiglet\n",
      "  Downloading pyfiglet-0.8.post1-py2.py3-none-any.whl (865 kB)\n",
      "\u001b[K     |████████████████████████████████| 865 kB 20.7 MB/s eta 0:00:01\n",
      "\u001b[?25hInstalling collected packages: pyfiglet\n",
      "Successfully installed pyfiglet-0.8.post1\n"
     ]
    }
   ],
   "source": [
    "!pip install pyfiglet"
   ]
  },
  {
   "cell_type": "code",
   "execution_count": null,
   "id": "dc1fa0f1-61ca-4976-b717-b80dd2c73aa8",
   "metadata": {},
   "outputs": [
    {
     "name": "stderr",
     "output_type": "stream",
     "text": [
      "ibmqfactory.load_account:WARNING:2022-10-24 03:34:25,563: Credentials are already in use. The existing account in the session will be replaced.\n"
     ]
    },
    {
     "name": "stdout",
     "output_type": "stream",
     "text": [
      "__        __   _                            _          _   _          \n",
      "\\ \\      / /__| | ___ ___  _ __ ___   ___  | |_ ___   | |_| |__   ___ \n",
      " \\ \\ /\\ / / _ \\ |/ __/ _ \\| '_ ` _ \\ / _ \\ | __/ _ \\  | __| '_ \\ / _ \\\n",
      "  \\ V  V /  __/ | (_| (_) | | | | | |  __/ | || (_) | | |_| | | |  __/\n",
      "   \\_/\\_/ \\___|_|\\___\\___/|_| |_| |_|\\___|  \\__\\___/   \\__|_| |_|\\___|\n",
      "                                                                      \n",
      " _____ _ _ _                    __     __    _     _                       \n",
      "| ____| (_) |_ _____   _ _ __   \\ \\   / /_ _(_) __| |_ __ ___   __ _ _ __  \n",
      "|  _| | | | __|_  / | | | '__|___\\ \\ / / _` | |/ _` | '_ ` _ \\ / _` | '_ \\ \n",
      "| |___| | | |_ / /| |_| | | |_____\\ V / (_| | | (_| | | | | | | (_| | | | |\n",
      "|_____|_|_|\\__/___|\\__,_|_|        \\_/ \\__,_|_|\\__,_|_| |_| |_|\\__,_|_| |_|\n",
      "                                                                           \n",
      " ____                  _     \n",
      "| __ )  ___  _ __ ___ | |__  \n",
      "|  _ \\ / _ \\| '_ ` _ \\| '_ \\ \n",
      "| |_) | (_) | | | | | | |_) |\n",
      "|____/ \\___/|_| |_| |_|_.__/ \n",
      "                             \n",
      " __  __ ___ _   _ _____ _____ ___ _____ _     ____  _ \n",
      "|  \\/  |_ _| \\ | | ____|  ___|_ _| ____| |   |  _ \\| |\n",
      "| |\\/| || ||  \\| |  _| | |_   | ||  _| | |   | | | | |\n",
      "| |  | || || |\\  | |___|  _|  | || |___| |___| |_| |_|\n",
      "|_|  |_|___|_| \\_|_____|_|   |___|_____|_____|____/(_)\n",
      "                                                      \n",
      "\n",
      "THERE ARE 8 MINES IN THE FIELD!!!\n",
      "We need your help to disarm all the live bombs!\n",
      "Only 4 of the mines are live. The rest are duds.\n",
      "\n",
      "You have a limited amount of time you can disarm the bombs. So choose wisely!\n",
      "Current disarmed amount: 4 \n",
      "\n",
      "If there are any live bombs left after you disarm all the bombs, the bomb will explode!\n",
      "In order to disarm the bomb, we have to identify which mines are live and which are duds.\n",
      "Using the latest technology, in quantum mechanics, we can put each bomb in our own quantum detector and measure it.\n",
      "To the detector!\n"
     ]
    },
    {
     "name": "stdin",
     "output_type": "stream",
     "text": [
      "\n",
      "Press Enter to continue... \n"
     ]
    },
    {
     "name": "stdout",
     "output_type": "stream",
     "text": [
      "                                                                                 _    \n",
      "                                                                                / \\   \n",
      "                                                                               / _ \\  \n",
      "                                                                              / ___ \\ \n",
      "                                                                             /_/   \\_\\\n",
      "                                                                                      \n",
      "                                                   __                              __  ____  \n",
      "                                                  / /                             / / | __ ) \n",
      "                                                 / /____ _____ _____ _____ _____ / /  |  _ \\ \n",
      "                                                / /_____|_____|_____|_____|_____/ /   | |_) |\n",
      "                                               /_/                             /_/    |____/ \n",
      "                                                                                             \n",
      "                                                _                               _ \n",
      "                                               | |                             | |\n",
      "                                               | |                             | |\n",
      "                                               | |                             | |\n",
      "                                               | |                             | |\n",
      "                                               |_|                             |_|\n",
      "                                                _                               _ \n",
      "                                               | |                             | |\n",
      "                                               | |                             | |\n",
      "                                               | |                             | |\n",
      "                                               | |                             | |\n",
      "                                               |_|                             |_|\n",
      "                                                   __        __  __             __\n",
      "                                                  / /        \\ \\/ /            / /\n",
      " _____ _____ _____ _____ _____ _____ _____ _____ / /____ _____\\  /_____ _____ / / \n",
      "|_____|_____|_____|_____|_____|_____|_____|_____/ /_____|_____/  \\_____|_____/ /  \n",
      "                                               /_/           /_/\\_\\         /_/   \n",
      "                                                                                  \n",
      "\n",
      "This is our quantum detector. We can measure the bomb in the detector if it is live or a dud.\n",
      "There is a caviet though. There is a slight chance the detector may trigger the bomb if it is live.\n",
      "In addition, we are limited to number of trials that we can measure in total.\n",
      "You have 100 trials to measure the bombs.\n",
      "\n",
      "The higher the number of trials used, the more accurate the results will be, and less likely to trigger the bomb if it is live.\n"
     ]
    },
    {
     "name": "stdin",
     "output_type": "stream",
     "text": [
      "\n",
      "Press Enter to continue... \n"
     ]
    },
    {
     "name": "stdout",
     "output_type": "stream",
     "text": [
      "\n",
      "This is the minefield. Each tile is represented by a 0 and bombs are represented by a X.\n",
      "The number list from 1-8 represents the rows and columns.\n",
      "\n",
      "  1 2 3 4 5 6 7 8 \n",
      "1 0 0 0 X 0 0 0 0 \n",
      "2 0 X 0 0 0 0 0 0 \n",
      "3 0 0 0 0 0 0 0 0 \n",
      "4 0 0 0 0 0 0 0 0 \n",
      "5 X 0 X 0 0 0 0 0 \n",
      "6 0 0 0 0 0 0 0 X \n",
      "7 0 0 0 0 0 0 0 0 \n",
      "8 0 0 0 X 0 0 X X \n",
      "\n",
      "Would you like to disarm a bomb or measure a bomb? 0 to disarm, 1 to measure.\n"
     ]
    },
    {
     "name": "stdin",
     "output_type": "stream",
     "text": [
      "Please enter a number:  1\n"
     ]
    },
    {
     "name": "stdout",
     "output_type": "stream",
     "text": [
      "\n",
      "You have chosen to measure a bomb. Please enter the coordinates of the bomb you would like to measure. If you would like to quit, enter q.\n",
      "Please enter the coordinates of the tile you want to measure.\n",
      "The coordinates are in the form of row, column.\n"
     ]
    },
    {
     "name": "stdin",
     "output_type": "stream",
     "text": [
      "Enter the row:  1\n",
      "Enter the column:  4\n"
     ]
    },
    {
     "name": "stdout",
     "output_type": "stream",
     "text": [
      "\n",
      "              A\n",
      "        /-----/ B\n",
      "        |     |\n",
      "        |     |\n",
      "--------/--X--/\n",
      "\n",
      "Trial amounts left: 100\n",
      "How many times would you like to measure the bomb?\n"
     ]
    },
    {
     "name": "stdin",
     "output_type": "stream",
     "text": [
      "Please enter a number:  20\n"
     ]
    },
    {
     "name": "stdout",
     "output_type": "stream",
     "text": [
      "Measuring...\n",
      "\n",
      "              A\n",
      "        /-----/ B\n",
      "        |     |\n",
      "        |     |\n",
      "--------/--X--/\n",
      "\n"
     ]
    },
    {
     "data": {
      "image/png": "[encoded data removed]",
      "text/plain": [
       "<Figure size 432x288 with 1 Axes>"
      ]
     },
     "metadata": {
      "needs_background": "light"
     },
     "output_type": "display_data"
    },
    {
     "name": "stdout",
     "output_type": "stream",
     "text": [
      "Bomb coordinates: Row: 1 Col: 4\n",
      "Predicted bomb: 0\n",
      "Predicted no bomb: 1\n",
      "Blown up: 0\n"
     ]
    }
   ],
   "source": [
    "import numpy as np\n",
    "import pyfiglet\n",
    "import matplotlib.pyplot as plt\n",
    "import qiskit_ibm_runtime\n",
    "from qiskit import (\n",
    "    QuantumCircuit,\n",
    "    QuantumRegister,\n",
    "    execute,\n",
    "    Aer, IBMQ)\n",
    "\n",
    "from qiskit.quantum_info.operators import Operator\n",
    "from qiskit_ibm_runtime import QiskitRuntimeService\n",
    "\n",
    "#QiskitRuntimeService.save_account(channel=\"ibm_quantum\", token=\"\")\n",
    "\n",
    "IBMQ.load_account()\n",
    "IBMQ.providers()\n",
    "\n",
    "# setup game parameters\n",
    "bomb_count = 8  # total amount of bombs in game (duds and armed)\n",
    "width = 8\n",
    "height = 8\n",
    "live_bomb = bomb_count/2\n",
    "pool_amount = 100\n",
    "grid = np.zeros((width, height), dtype=int)  # setup 2D grid with 0's\n",
    "current_bomb_x = 0\n",
    "current_bomb_y = 0\n",
    "disarm_amount = bomb_count/2\n",
    "# print out the ASCII detector\n",
    "\n",
    "\n",
    "def printDetectorArt():\n",
    "    print()\n",
    "    print(\"              A\")\n",
    "    print(\"        /-----/ B\")\n",
    "    print(\"        |     |\")\n",
    "    print(\"        |     |\")\n",
    "    print(\"--------/--X--/\")\n",
    "    print()\n",
    "    \n",
    "def gameover():\n",
    "    global mainGame\n",
    "    ASCII_art_1 = pyfiglet.figlet_format(\"GAME OVER, THE BOMB EXPLODED!\")\n",
    "    print(ASCII_art_1)\n",
    "    print(\"                                  ____\")\n",
    "    print(\"                          __,-~~/~    `---.\")\n",
    "    print(\"                        _/_,---(      ,    )\")\n",
    "    print(\"                    __ /        <    /   )  \\___\")\n",
    "    print(\"     - ------===;;;'====------------------===;;;===----- -  -\")\n",
    "    print(\"                       \\/  ------------------//\")\n",
    "    print(\"                       (_ (   \\  (     >    \\)\")\n",
    "    print(\"                        \\_( _ <         >_>'\")\n",
    "    print(\"                           ~ `-i' ::>|--\"\"\")\n",
    "    print(\"                               I;|.|.|\")\n",
    "    print(\"                              <|i::|i|`.\")\n",
    "    print(\"                             (` ^'--' -)\")\n",
    "    mainGame = False\n",
    "\n",
    "\n",
    "# print out game introduction\n",
    "ASCII_art_1 = pyfiglet.figlet_format(\"Welcome to the Elitzur-Vaidman Bomb MINEFIELD!\")\n",
    "print(ASCII_art_1)\n",
    "print(\"THERE ARE\", bomb_count, \"MINES IN THE FIELD!!!\")\n",
    "print(\"We need your help to disarm all the live bombs!\")\n",
    "print(\"Only 4 of the mines are live. The rest are duds.\\n\")\n",
    "print(\"You have a limited amount of time you can disarm the bombs. So choose wisely!\")\n",
    "print(\"Current disarmed amount:\", int(disarm_amount), \"\\n\")\n",
    "print(\"If there are any live bombs left after you disarm all the bombs, the bomb will explode!\")\n",
    "print(\"In order to disarm the bomb, we have to identify which mines are live and which are duds.\")\n",
    "print(\"Using the latest technology, in quantum mechanics, we can put each bomb in our own quantum detector and measure it.\")\n",
    "print(\"To the detector!\")\n",
    "inputskip = input(\"\\nPress Enter to continue...\")\n",
    "ASCII_art_1 = pyfiglet.figlet_format(\"                                                                             A\\n                                               /-----/ B\\n                                               |                             |\\n                                               |                             |\\n--------/--X--/\", width=200)\n",
    "print(ASCII_art_1)\n",
    "print(\"This is our quantum detector. We can measure the bomb in the detector if it is live or a dud.\\nThere is a caviet though. There is a slight chance the detector may trigger the bomb if it is live.\")\n",
    "print(\"In addition, we are limited to number of trials that we can measure in total.\")\n",
    "print(\"You have\", pool_amount, \"trials to measure the bombs.\\n\")\n",
    "print(\"The higher the number of trials used, the more accurate the results will be, and less likely to trigger the bomb if it is live.\")\n",
    "inputskip = input(\"\\nPress Enter to continue...\")\n",
    "\n",
    "# fill in the empty grid with bombs at random\n",
    "def fill_grid_n_bombs(bomb_count):\n",
    "    armed_bomb_count = int(bomb_count/2)  # half of the bombs will be armed\n",
    "    for i in range(armed_bomb_count):\n",
    "        # take a random coord to place the armed bomb\n",
    "        x = np.random.randint(0, width)\n",
    "        y = np.random.randint(0, height)\n",
    "        # check to see if there's a bomb already place in the square\n",
    "        if grid[x, y] == 0:\n",
    "            grid[x, y] = 1\n",
    "        else:\n",
    "            i -= 1  # go back one increment\n",
    "        # cut this cycle early, so with the decrement it just redoes the iteration\n",
    "        # take a random coord to place the dud bomb\n",
    "        x = np.random.randint(0, width)\n",
    "        y = np.random.randint(0, height)\n",
    "        if grid[x][y] == 0:\n",
    "            grid[x][y] = 2\n",
    "        else:\n",
    "            i -= 1\n",
    "fill_grid_n_bombs(bomb_count)\n",
    "\n",
    "# display the grid in it's current state\n",
    "def print_grid(width, height):\n",
    "    print(\"  \", end=\"\")\n",
    "    for i in range(width):\n",
    "        print(i + 1, end=\" \")\n",
    "    print()\n",
    "    for i in range(width):\n",
    "        print(i + 1, end=\" \")\n",
    "        for j in range(height):\n",
    "            if grid[i][j] == 1:\n",
    "                print(\"X\", end=\" \")\n",
    "            elif grid[i][j] == 2:\n",
    "                print(\"X\", end=\" \")\n",
    "            else:\n",
    "                print(\"0\", end=\" \")\n",
    "        print()\n",
    "    print()\n",
    "    # print(\"Master_Grid\")\n",
    "    # print(grid)\n",
    "\n",
    "# check if coordinates points to a bomb\n",
    "def checkCoor(rowInput, colInput):\n",
    "    value = grid[rowInput][colInput]\n",
    "    if value == 1 or value == 2:\n",
    "        # print(\"To the detector!\")\n",
    "        return True\n",
    "    else:\n",
    "        print(\"There is no bomb in this tile. Please try again.\")\n",
    "        return False\n",
    "\n",
    "# CREDITS FOR THE FUNCTION BELOW GOES TO: dwarkeshsp\n",
    "# github link: https://github.com/dwarkeshsp/quantum-bomb-tester/blob/master/Elitzur%E2%80%93Vaidman%20quantum%20bomb%20tester.ipynb\n",
    "# This is where the quantum measurement will run to test for bomb prescence\n",
    "# number of trials to determine whether bomb is predicted/explode or a dud/fake\n",
    "# 10 is inconsistent max trials; 20+ trials is more consistent for predicting bomb without exploding\n",
    "# applied rotations until you can predict the bomb\n",
    "def elitzur_vaidman(bomb, inputTrials):\n",
    "    global pool_amount\n",
    "    global mainGame;\n",
    "    rotations = inputTrials\n",
    "    e = np.pi/(2*rotations)\n",
    "    shots = 1\n",
    "    measurements = rotations + 1 if bomb else 1\n",
    "    circuit = QuantumCircuit(1, measurements)\n",
    "    rotate = Operator([[np.cos(e), -np.sin(e)], [np.sin(e), np.cos(e)]])\n",
    "    for i in range(rotations):\n",
    "        circuit.unitary(rotate, [0], label='Re')\n",
    "        if bomb:\n",
    "            circuit.measure(0, i)\n",
    "\n",
    "    circuit.measure(0, measurements - 1)\n",
    "\n",
    "    provider = IBMQ.get_provider('ibm-q')\n",
    "    backend = provider.get_backend(\"ibmq_quito\")\n",
    "    job = execute(circuit, backend, shots=shots)\n",
    "    result = job.result()\n",
    "    counts = result.get_counts(circuit)  # returns a hash map\n",
    "    predict_bomb = predict_no_bomb = blown_up = 0\n",
    "    if bomb:\n",
    "        # checks to see if there's a key in hash map\n",
    "        predict_bomb = counts['0' * measurements] if '0' * \\\n",
    "            measurements in counts else 0\n",
    "        zeros_one = '0' * (predict_no_bomb - 1) + '1'\n",
    "        predict_no_bomb = counts[zeros_one] if zeros_one in counts else 0\n",
    "        blown_up = shots - predict_bomb - predict_no_bomb\n",
    "    else:\n",
    "        predict_bomb = counts['0'] if '0' in counts else 0\n",
    "        predict_no_bomb = counts['1']\n",
    "        blown_up = 0\n",
    "    y_pos = np.arange(3)\n",
    "    plt.bar(y_pos, [predict_bomb, predict_no_bomb, blown_up])\n",
    "    plt.xticks(y_pos, ['Predicts bomb', 'Predicts no bomb', 'Blown up'])\n",
    "    plt.ylabel('Trials')\n",
    "    plt.title('Elitzur-Vaidman results')\n",
    "    plt.show()\n",
    "    print(\"Bomb coordinates: Row:\", current_bomb_x + 1, \"Col:\", current_bomb_y + 1)\n",
    "    print(\"Predicted bomb:\", predict_bomb)\n",
    "    print(\"Predicted no bomb:\", predict_no_bomb)\n",
    "    print(\"Blown up:\", blown_up)\n",
    "    if blown_up == 1:\n",
    "        gameover()\n",
    "\n",
    "def detector(rowInput, colInput):\n",
    "    global pool_amount\n",
    "    printDetectorArt()\n",
    "    print(\"Trial amounts left:\", pool_amount)\n",
    "    print(\"How many times would you like to measure the bomb?\")\n",
    "    trial_input = input(\"Please enter a number: \")\n",
    "    while (not trial_input.isdigit()) or int(trial_input) > pool_amount:\n",
    "        if trial_input.isdigit() and int(trial_input) > pool_amount:\n",
    "            print(\"You have exceeded the number of trials you can do. Please try again.\")\n",
    "        trial_input = input(\"Please enter a number: \")\n",
    "    trial_input = int(trial_input)\n",
    "    pool_amount = pool_amount - trial_input\n",
    "    print(\"Measuring...\")\n",
    "    printDetectorArt()\n",
    "    if grid[rowInput][colInput] == 1:\n",
    "        bomb = True\n",
    "        elitzur_vaidman(bomb, trial_input)\n",
    "    elif grid[rowInput][colInput] == 2:\n",
    "        bomb = False\n",
    "        elitzur_vaidman(bomb, trial_input)\n",
    "    \n",
    "def disarm(rowInput, colInput):\n",
    "    global live_bomb\n",
    "    global disarm_amount\n",
    "    if grid[rowInput][colInput] == 1:\n",
    "        live_bomb -= 1\n",
    "    grid[rowInput][colInput] = 0\n",
    "    disarm_amount -= 1\n",
    "    print(\"\\nYou have disarmed the bomb!\")\n",
    "    print(\"Bombs left to disarm:\", int(disarm_amount))\n",
    "    \n",
    "mainGame = True  # variable the shows whether the game is still active or not\n",
    "# ask player which tile they want to measure with coord input\n",
    "while mainGame:\n",
    "    print(\"\\nThis is the minefield. Each tile is represented by a 0 and bombs are represented by a X.\")\n",
    "    print(\"The number list from 1-8 represents the rows and columns.\\n\")\n",
    "    print_grid(width, height)\n",
    "    print(\"Would you like to disarm a bomb or measure a bomb? 0 to disarm, 1 to measure.\")\n",
    "    choice = input(\"Please enter a number: \")\n",
    "    print()\n",
    "    while choice.isdigit() == False:\n",
    "        choice = input(\"Please enter a valid number: \")\n",
    "    if (choice == \"1\"):\n",
    "        print(\"You have chosen to measure a bomb. Please enter the coordinates of the bomb you would like to measure. If you would like to quit, enter q.\")\n",
    "        print(\"Please enter the coordinates of the tile you want to measure.\")\n",
    "        print(\"The coordinates are in the form of row, column.\")\n",
    "        rowInput = input(\"Enter the row: \")\n",
    "        if rowInput == \"q\":\n",
    "            continue\n",
    "        # if the input is not a number, then it will ask for the input again\n",
    "        while rowInput.isdigit() == False:\n",
    "            rowInput = input(\"Please enter a valid row: \")\n",
    "        colInput = input(\"Enter the column: \")\n",
    "        if colInput == \"q\":\n",
    "            continue\n",
    "        while colInput.isdigit() == False:\n",
    "            colInput = input(\"Please enter a valid column: \")\n",
    "        rowInput = int(rowInput) - 1\n",
    "        colInput = int(colInput) - 1\n",
    "        current_bomb_x = rowInput\n",
    "        current_bomb_y = colInput\n",
    "        if checkCoor(rowInput, colInput) == False:\n",
    "            # jump back to the beginning of the loop\n",
    "            print(\"Please try again. The coordinates you entered does not have a bomb.\")\n",
    "            continue\n",
    "        if pool_amount > 0:\n",
    "            detector(rowInput, colInput)\n",
    "            if mainGame == False:\n",
    "                break\n",
    "            skip = input(\"Press enter to continue.\")\n",
    "        else:\n",
    "            print(\n",
    "                \"You have exceeded the number of trials. The guessing begins! Good luck!\")\n",
    "    elif (choice == \"0\"):\n",
    "        print(\"You have chosen to disarm a bomb. Please enter the coordinates of the tile you want to disarm. If you want to quit, enter q.\")\n",
    "        print(\"Please enter the coordinates of the tile you want to measure.\")\n",
    "        print(\"The coordinates are in the form of row, column.\")\n",
    "        rowInput = input(\"Enter the row: \")\n",
    "        if rowInput == \"q\":\n",
    "            continue\n",
    "        # if the input is not a number, then it will ask for the input again\n",
    "        while rowInput.isdigit() == False:\n",
    "            rowInput = input(\"Please enter a valid row: \")\n",
    "        colInput = input(\"Enter the column: \")\n",
    "        if colInput == \"q\":\n",
    "            continue\n",
    "        while colInput.isdigit() == False:\n",
    "            colInput = input(\"Please enter a valid column: \")\n",
    "        rowInput = int(rowInput) - 1\n",
    "        colInput = int(colInput) - 1\n",
    "        current_bomb_x = rowInput\n",
    "        current_bomb_y = colInput\n",
    "        if checkCoor(rowInput, colInput) == False:\n",
    "            # jump back to the beginning of the loop\n",
    "            print(\"Please try again. The coordinates you entered does not have a bomb.\")\n",
    "            continue\n",
    "        disarm(rowInput, colInput)\n",
    "        if disarm_amount == 0 and live_bomb > 0:\n",
    "            print(\"You have used up all your disarming attempts. But there were some live bombs left. You lose!\")\n",
    "            gameover()\n",
    "            break\n",
    "        print(\"Please enter to continue.\")\n",
    "    \n",
    "    if (live_bomb == 0):\n",
    "        ASCII_art_2 = pyfiglet.figlet_format(\"CONGRATULATIONS! YOU HAVE DISARMED ALL THE BOMBS HERO!\", font=\"slant\")\n",
    "        print(ASCII_art_2)\n",
    "        mainGame = False\n"
   ]
  },
  {
   "cell_type": "code",
   "execution_count": null,
   "id": "f8b5319a-7a2a-462c-b7a4-4d72bbbf8728",
   "metadata": {},
   "outputs": [],
   "source": []
  }
 ],
 "metadata": {
  "kernelspec": {
   "display_name": "Python 3 (ipykernel)",
   "language": "python",
   "name": "python3"
  },
  "language_info": {
   "codemirror_mode": {
    "name": "ipython",
    "version": 3
   },
   "file_extension": ".py",
   "mimetype": "text/x-python",
   "name": "python",
   "nbconvert_exporter": "python",
   "pygments_lexer": "ipython3",
   "version": "3.8.13"
  },
  "vscode": {
   "interpreter": {
    "hash": "916dbcbb3f70747c44a77c7bcd40155683ae19c65e1c03b4aa3499c5328201f1"
   }
  },
  "widgets": {
   "application/vnd.jupyter.widget-state+json": {
    "state": {
     "01175b6fabe54bd7ae8c0e5039840e58": {
      "model_module": "@jupyter-widgets/controls",
      "model_module_version": "1.5.0",
      "model_name": "HTMLModel",
      "state": {
       "layout": "IPY_MODEL_87ee11e0ba9a44ffbf5c8bf6a92793d8",
       "style": "IPY_MODEL_7c1e92f933734a9a9fb234389f1d9b68",
       "value": "<h5>Backend</h5>"
      }
     },
     "043b85e9700347e49a1bf196f8ad7db6": {
      "model_module": "@jupyter-widgets/base",
      "model_module_version": "1.2.0",
      "model_name": "LayoutModel",
      "state": {
       "width": "95px"
      }
     },
     "058d832e9ff4400983dc43c4d06e3e62": {
      "model_module": "@jupyter-widgets/controls",
      "model_module_version": "1.5.0",
      "model_name": "GridBoxModel",
      "state": {
       "children": [
        "IPY_MODEL_2646f713c50147ca942c2de4ea1cf838"
       ],
       "layout": "IPY_MODEL_093f53e840ea469db776ccc4c251488a"
      }
     },
     "08f62d7c63a84822a0942471ce4a0a64": {
      "model_module": "@jupyter-widgets/controls",
      "model_module_version": "1.5.0",
      "model_name": "HTMLModel",
      "state": {
       "layout": "IPY_MODEL_cedcdbd6f25f4f1da651eb606e1704d0",
       "style": "IPY_MODEL_83cb86c0cd244fa4bc90ceb4a1d4bbed",
       "value": "ibmq_quito"
      }
     },
     "093f53e840ea469db776ccc4c251488a": {
      "model_module": "@jupyter-widgets/base",
      "model_module_version": "1.2.0",
      "model_name": "LayoutModel",
      "state": {
       "grid_template_areas": "\n                                       \". . . . right \"\n                                        ",
       "grid_template_columns": "20% 20% 20% 20% 20%",
       "width": "100%"
      }
     },
     "0cba6627114045a49db2b0e152ff028a": {
      "model_module": "@jupyter-widgets/controls",
      "model_module_version": "1.5.0",
      "model_name": "HTMLModel",
      "state": {
       "layout": "IPY_MODEL_27001373cacd42aeb82f595c4fde8094",
       "style": "IPY_MODEL_7e84828434a845738f3ec35e271f424b",
       "value": "<h5>Job ID</h5>"
      }
     },
     "2646f713c50147ca942c2de4ea1cf838": {
      "model_module": "@jupyter-widgets/controls",
      "model_module_version": "1.5.0",
      "model_name": "ButtonModel",
      "state": {
       "button_style": "primary",
       "description": "Clear",
       "layout": "IPY_MODEL_a5e47f317efc4d9db022c1ee41b9f1b1",
       "style": "IPY_MODEL_895a74f671414358976e0e713a78d8dc"
      }
     },
     "27001373cacd42aeb82f595c4fde8094": {
      "model_module": "@jupyter-widgets/base",
      "model_module_version": "1.2.0",
      "model_name": "LayoutModel",
      "state": {
       "width": "190px"
      }
     },
     "3497a2cbd0154797bb6b1f5a4ee54026": {
      "model_module": "@jupyter-widgets/controls",
      "model_module_version": "1.5.0",
      "model_name": "DescriptionStyleModel",
      "state": {
       "description_width": ""
      }
     },
     "34c312c5458445718e02e770c97663cb": {
      "model_module": "@jupyter-widgets/base",
      "model_module_version": "1.2.0",
      "model_name": "LayoutModel",
      "state": {
       "margin": "0px 0px 10px 0px"
      }
     },
     "38aef4a792aa42cebf1eb4b358e4230f": {
      "model_module": "@jupyter-widgets/controls",
      "model_module_version": "1.5.0",
      "model_name": "DescriptionStyleModel",
      "state": {
       "description_width": ""
      }
     },
     "464f795d5d68410fb03cd04c1ea4337d": {
      "model_module": "@jupyter-widgets/controls",
      "model_module_version": "1.5.0",
      "model_name": "HTMLModel",
      "state": {
       "layout": "IPY_MODEL_34c312c5458445718e02e770c97663cb",
       "style": "IPY_MODEL_977387306b7c45da9a91e7950dff2b92",
       "value": "<p style='font-family: IBM Plex Sans, Arial, Helvetica, sans-serif; font-size: 20px; font-weight: medium;'>Circuit Properties</p>"
      }
     },
     "50871474d216428ea34a55f47e29d566": {
      "model_module": "@jupyter-widgets/controls",
      "model_module_version": "1.5.0",
      "model_name": "HTMLModel",
      "state": {
       "layout": "IPY_MODEL_7f2bcfccb4954000a0eade60d83c0952",
       "style": "IPY_MODEL_eab5332f8d654664bd89a51bb788de8c",
       "value": "<h5>Queue</h5>"
      }
     },
     "517ffc5c63334991901b4d64f0b646ac": {
      "model_module": "@jupyter-widgets/controls",
      "model_module_version": "1.5.0",
      "model_name": "HTMLModel",
      "state": {
       "layout": "IPY_MODEL_57e033ac4b534f429ab2e9a8ddfc03a5",
       "style": "IPY_MODEL_e6793ed6070441e58e879d9c2216722f",
       "value": "635607e854515984d1c9cd22"
      }
     },
     "57e033ac4b534f429ab2e9a8ddfc03a5": {
      "model_module": "@jupyter-widgets/base",
      "model_module_version": "1.2.0",
      "model_name": "LayoutModel",
      "state": {
       "width": "190px"
      }
     },
     "738b862a116d4261959cd92e32d011d5": {
      "model_module": "@jupyter-widgets/controls",
      "model_module_version": "1.5.0",
      "model_name": "HBoxModel",
      "state": {
       "children": [
        "IPY_MODEL_ffbdd14a29cd4d0e94b6aaad523863a0",
        "IPY_MODEL_517ffc5c63334991901b4d64f0b646ac",
        "IPY_MODEL_08f62d7c63a84822a0942471ce4a0a64",
        "IPY_MODEL_d316c16a27bb46dca18872bbd7d79cc6",
        "IPY_MODEL_7ddb6ddde01e4b0aa01766df2617a1d3",
        "IPY_MODEL_877377f442284b51a0495e28cf86c754"
       ],
       "layout": "IPY_MODEL_8077764fed9b41ee82163fbb3c545fa7"
      }
     },
     "7c1e92f933734a9a9fb234389f1d9b68": {
      "model_module": "@jupyter-widgets/controls",
      "model_module_version": "1.5.0",
      "model_name": "DescriptionStyleModel",
      "state": {
       "description_width": ""
      }
     },
     "7ddb6ddde01e4b0aa01766df2617a1d3": {
      "model_module": "@jupyter-widgets/controls",
      "model_module_version": "1.5.0",
      "model_name": "HTMLModel",
      "state": {
       "layout": "IPY_MODEL_94002a8ccb744d39a4d31b50a17878a7",
       "style": "IPY_MODEL_38aef4a792aa42cebf1eb4b358e4230f",
       "value": "-"
      }
     },
     "7e5ec3bc48bc4f6cb93d2e81d6a53522": {
      "model_module": "@jupyter-widgets/controls",
      "model_module_version": "1.5.0",
      "model_name": "HBoxModel",
      "state": {
       "children": [
        "IPY_MODEL_0cba6627114045a49db2b0e152ff028a",
        "IPY_MODEL_01175b6fabe54bd7ae8c0e5039840e58",
        "IPY_MODEL_d5918f286c3241dcb6f9af54ba3fa31e",
        "IPY_MODEL_50871474d216428ea34a55f47e29d566",
        "IPY_MODEL_e4e5d8cf4aa044e9a3aeda97d3da0a7f"
       ],
       "layout": "IPY_MODEL_bcd02a4637194d1380f055a18ff38bc9"
      }
     },
     "7e60f87a47084573ae9d1b12ff44aa56": {
      "model_module": "@jupyter-widgets/base",
      "model_module_version": "1.2.0",
      "model_name": "LayoutModel",
      "state": {}
     },
     "7e84828434a845738f3ec35e271f424b": {
      "model_module": "@jupyter-widgets/controls",
      "model_module_version": "1.5.0",
      "model_name": "DescriptionStyleModel",
      "state": {
       "description_width": ""
      }
     },
     "7f2bcfccb4954000a0eade60d83c0952": {
      "model_module": "@jupyter-widgets/base",
      "model_module_version": "1.2.0",
      "model_name": "LayoutModel",
      "state": {
       "width": "70px"
      }
     },
     "8077764fed9b41ee82163fbb3c545fa7": {
      "model_module": "@jupyter-widgets/base",
      "model_module_version": "1.2.0",
      "model_name": "LayoutModel",
      "state": {
       "max_width": "700px",
       "min_width": "700px"
      }
     },
     "83cb86c0cd244fa4bc90ceb4a1d4bbed": {
      "model_module": "@jupyter-widgets/controls",
      "model_module_version": "1.5.0",
      "model_name": "DescriptionStyleModel",
      "state": {
       "description_width": ""
      }
     },
     "85dfdabbb1314246b7751acb8f052151": {
      "model_module": "@jupyter-widgets/controls",
      "model_module_version": "1.5.0",
      "model_name": "ButtonStyleModel",
      "state": {
       "button_color": "white"
      }
     },
     "877377f442284b51a0495e28cf86c754": {
      "model_module": "@jupyter-widgets/controls",
      "model_module_version": "1.5.0",
      "model_name": "HTMLModel",
      "state": {
       "layout": "IPY_MODEL_fe97eb29aec14552acfe1f7d01422252",
       "style": "IPY_MODEL_a5889c24bb694089b990dc0cd9fc3072",
       "value": "job has successfully run"
      }
     },
     "87ee11e0ba9a44ffbf5c8bf6a92793d8": {
      "model_module": "@jupyter-widgets/base",
      "model_module_version": "1.2.0",
      "model_name": "LayoutModel",
      "state": {
       "width": "145px"
      }
     },
     "895a74f671414358976e0e713a78d8dc": {
      "model_module": "@jupyter-widgets/controls",
      "model_module_version": "1.5.0",
      "model_name": "ButtonStyleModel",
      "state": {}
     },
     "94002a8ccb744d39a4d31b50a17878a7": {
      "model_module": "@jupyter-widgets/base",
      "model_module_version": "1.2.0",
      "model_name": "LayoutModel",
      "state": {
       "width": "70px"
      }
     },
     "977387306b7c45da9a91e7950dff2b92": {
      "model_module": "@jupyter-widgets/controls",
      "model_module_version": "1.5.0",
      "model_name": "DescriptionStyleModel",
      "state": {
       "description_width": ""
      }
     },
     "9e17ec38d18747f590c319764f9fefe0": {
      "model_module": "@jupyter-widgets/controls",
      "model_module_version": "1.5.0",
      "model_name": "DescriptionStyleModel",
      "state": {
       "description_width": ""
      }
     },
     "a19d0dec3a274087974b6b4d4e788eb7": {
      "model_module": "@jupyter-widgets/base",
      "model_module_version": "1.2.0",
      "model_name": "LayoutModel",
      "state": {
       "margin": "0px 5px 0px 0px",
       "width": "32px"
      }
     },
     "a5889c24bb694089b990dc0cd9fc3072": {
      "model_module": "@jupyter-widgets/controls",
      "model_module_version": "1.5.0",
      "model_name": "DescriptionStyleModel",
      "state": {
       "description_width": ""
      }
     },
     "a5e47f317efc4d9db022c1ee41b9f1b1": {
      "model_module": "@jupyter-widgets/base",
      "model_module_version": "1.2.0",
      "model_name": "LayoutModel",
      "state": {
       "grid_area": "right",
       "padding": "0px 0px 0px 0px",
       "width": "70px"
      }
     },
     "bcd02a4637194d1380f055a18ff38bc9": {
      "model_module": "@jupyter-widgets/base",
      "model_module_version": "1.2.0",
      "model_name": "LayoutModel",
      "state": {
       "margin": "0px 0px 0px 37px",
       "width": "600px"
      }
     },
     "c3db8b2bc9c44747b9f6c43936186b7d": {
      "model_module": "@jupyter-widgets/controls",
      "model_module_version": "1.5.0",
      "model_name": "DescriptionStyleModel",
      "state": {
       "description_width": ""
      }
     },
     "cedcdbd6f25f4f1da651eb606e1704d0": {
      "model_module": "@jupyter-widgets/base",
      "model_module_version": "1.2.0",
      "model_name": "LayoutModel",
      "state": {
       "width": "145px"
      }
     },
     "d316c16a27bb46dca18872bbd7d79cc6": {
      "model_module": "@jupyter-widgets/controls",
      "model_module_version": "1.5.0",
      "model_name": "HTMLModel",
      "state": {
       "layout": "IPY_MODEL_043b85e9700347e49a1bf196f8ad7db6",
       "style": "IPY_MODEL_c3db8b2bc9c44747b9f6c43936186b7d",
       "value": "<font style='color:#34BC6E'>DONE</font>"
      }
     },
     "d5918f286c3241dcb6f9af54ba3fa31e": {
      "model_module": "@jupyter-widgets/controls",
      "model_module_version": "1.5.0",
      "model_name": "HTMLModel",
      "state": {
       "layout": "IPY_MODEL_f34d03d4fc8c4bf5a58250ac24afe561",
       "style": "IPY_MODEL_3497a2cbd0154797bb6b1f5a4ee54026",
       "value": "<h5>Status</h5>"
      }
     },
     "e4e5d8cf4aa044e9a3aeda97d3da0a7f": {
      "model_module": "@jupyter-widgets/controls",
      "model_module_version": "1.5.0",
      "model_name": "HTMLModel",
      "state": {
       "layout": "IPY_MODEL_7e60f87a47084573ae9d1b12ff44aa56",
       "style": "IPY_MODEL_9e17ec38d18747f590c319764f9fefe0",
       "value": "<h5>Message</h5>"
      }
     },
     "e6793ed6070441e58e879d9c2216722f": {
      "model_module": "@jupyter-widgets/controls",
      "model_module_version": "1.5.0",
      "model_name": "DescriptionStyleModel",
      "state": {
       "description_width": ""
      }
     },
     "eab5332f8d654664bd89a51bb788de8c": {
      "model_module": "@jupyter-widgets/controls",
      "model_module_version": "1.5.0",
      "model_name": "DescriptionStyleModel",
      "state": {
       "description_width": ""
      }
     },
     "f34d03d4fc8c4bf5a58250ac24afe561": {
      "model_module": "@jupyter-widgets/base",
      "model_module_version": "1.2.0",
      "model_name": "LayoutModel",
      "state": {
       "width": "95px"
      }
     },
     "fe97eb29aec14552acfe1f7d01422252": {
      "model_module": "@jupyter-widgets/base",
      "model_module_version": "1.2.0",
      "model_name": "LayoutModel",
      "state": {
       "overflow_x": "scroll"
      }
     },
     "ffbdd14a29cd4d0e94b6aaad523863a0": {
      "model_module": "@jupyter-widgets/controls",
      "model_module_version": "1.5.0",
      "model_name": "ButtonModel",
      "state": {
       "icon": "close",
       "layout": "IPY_MODEL_a19d0dec3a274087974b6b4d4e788eb7",
       "style": "IPY_MODEL_85dfdabbb1314246b7751acb8f052151"
      }
     }
    },
    "version_major": 2,
    "version_minor": 0
   }
  }
 },
 "nbformat": 4,
 "nbformat_minor": 5
}
